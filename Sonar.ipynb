{
 "cells": [
  {
   "cell_type": "code",
   "execution_count": 13,
   "metadata": {},
   "outputs": [
    {
     "name": "stdout",
     "output_type": "stream",
     "text": [
      "   V1\\tV2\\tV3\\tV4\\tV5\\tV6\\tV7\\tV8\\tV9\\tV10\\tV11\\tV12\\tV13\\tV14\\tV15\\tV16\\tV17\\tV18\\tV19\\tV20\\tV21\\tV22\\tV23\\tV24\\tV25\\tV26\\tV27\\tV28\\tV29\\tV30\\tV31\\tV32\\tV33\\tV34\\tV35\\tV36\\tV37\\tV38\\tV39\\tV40\\tV41\\tV42\\tV43\\tV44\\tV45\\tV46\\tV47\\tV48\\tV49\\tV50\\tV51\\tV52\\tV53\\tV54\\tV55\\tV56\\tV57\\tV58\\tV59\\tV60\\tClass\n",
      "0   0.02\\t0.0371\\t0.0428\\t0.0207\\t0.0954\\t0.0986\\t...                                                                                                                                                                                                                                                      \n",
      "1   0.0453\\t0.0523\\t0.0843\\t0.0689\\t0.1183\\t0.2583...                                                                                                                                                                                                                                                      \n",
      "2   0.0262\\t0.0582\\t0.1099\\t0.1083\\t0.0974\\t0.228\\...                                                                                                                                                                                                                                                      \n",
      "3   0.01\\t0.0171\\t0.0623\\t0.0205\\t0.0205\\t0.0368\\t...                                                                                                                                                                                                                                                      \n",
      "4   0.0762\\t0.0666\\t0.0481\\t0.0394\\t0.059\\t0.0649\\...                                                                                                                                                                                                                                                      \n",
      "5   0.0286\\t0.0453\\t0.0277\\t0.0174\\t0.0384\\t0.099\\...                                                                                                                                                                                                                                                      \n",
      "6   0.0317\\t0.0956\\t0.1321\\t0.1408\\t0.1674\\t0.171\\...                                                                                                                                                                                                                                                      \n",
      "7   0.0519\\t0.0548\\t0.0842\\t0.0319\\t0.1158\\t0.0922...                                                                                                                                                                                                                                                      \n",
      "8   0.0223\\t0.0375\\t0.0484\\t0.0475\\t0.0647\\t0.0591...                                                                                                                                                                                                                                                      \n",
      "9   0.0164\\t0.0173\\t0.0347\\t0.007\\t0.0187\\t0.0671\\...                                                                                                                                                                                                                                                      \n",
      "10  0.0039\\t0.0063\\t0.0152\\t0.0336\\t0.031\\t0.0284\\...                                                                                                                                                                                                                                                      \n",
      "11  0.0123\\t0.0309\\t0.0169\\t0.0313\\t0.0358\\t0.0102...                                                                                                                                                                                                                                                      \n",
      "12  0.0079\\t0.0086\\t0.0055\\t0.025\\t0.0344\\t0.0546\\...                                                                                                                                                                                                                                                      \n",
      "13  0.009\\t0.0062\\t0.0253\\t0.0489\\t0.1197\\t0.1589\\...                                                                                                                                                                                                                                                      \n",
      "14  0.0124\\t0.0433\\t0.0604\\t0.0449\\t0.0597\\t0.0355...                                                                                                                                                                                                                                                      \n",
      "15  0.0298\\t0.0615\\t0.065\\t0.0921\\t0.1615\\t0.2294\\...                                                                                                                                                                                                                                                      \n",
      "16  0.0352\\t0.0116\\t0.0191\\t0.0469\\t0.0737\\t0.1185...                                                                                                                                                                                                                                                      \n",
      "17  0.0192\\t0.0607\\t0.0378\\t0.0774\\t0.1388\\t0.0809...                                                                                                                                                                                                                                                      \n",
      "18  0.027\\t0.0092\\t0.0145\\t0.0278\\t0.0412\\t0.0757\\...                                                                                                                                                                                                                                                      \n",
      "19  0.0126\\t0.0149\\t0.0641\\t0.1732\\t0.2565\\t0.2559...                                                                                                                                                                                                                                                      \n",
      "20  0.0473\\t0.0509\\t0.0819\\t0.1252\\t0.1783\\t0.307\\...                                                                                                                                                                                                                                                      \n",
      "21  0.0664\\t0.0575\\t0.0842\\t0.0372\\t0.0458\\t0.0771...                                                                                                                                                                                                                                                      \n",
      "22  0.0099\\t0.0484\\t0.0299\\t0.0297\\t0.0652\\t0.1077...                                                                                                                                                                                                                                                      \n",
      "23  0.0115\\t0.015\\t0.0136\\t0.0076\\t0.0211\\t0.1058\\...                                                                                                                                                                                                                                                      \n",
      "24  0.0293\\t0.0644\\t0.039\\t0.0173\\t0.0476\\t0.0816\\...                                                                                                                                                                                                                                                      \n",
      "25  0.0201\\t0.0026\\t0.0138\\t0.0062\\t0.0133\\t0.0151...                                                                                                                                                                                                                                                      \n",
      "26  0.0151\\t0.032\\t0.0599\\t0.105\\t0.1163\\t0.1734\\t...                                                                                                                                                                                                                                                      \n",
      "27  0.0177\\t0.03\\t0.0288\\t0.0394\\t0.063\\t0.0526\\t0...                                                                                                                                                                                                                                                      \n",
      "28  0.01\\t0.0275\\t0.019\\t0.0371\\t0.0416\\t0.0201\\t0...                                                                                                                                                                                                                                                      \n",
      "29  0.0189\\t0.0308\\t0.0197\\t0.0622\\t0.008\\t0.0789\\...                                                                                                                                                                                                                                                      \n",
      "30  0.024\\t0.0218\\t0.0324\\t0.0569\\t0.033\\t0.0513\\t...                                                                                                                                                                                                                                                      \n",
      "31  0.0084\\t0.0153\\t0.0291\\t0.0432\\t0.0951\\t0.0752...                                                                                                                                                                                                                                                      \n",
      "32  0.0195\\t0.0213\\t0.0058\\t0.019\\t0.0319\\t0.0571\\...                                                                                                                                                                                                                                                      \n",
      "33  0.0442\\t0.0477\\t0.0049\\t0.0581\\t0.0278\\t0.0678...                                                                                                                                                                                                                                                      \n"
     ]
    }
   ],
   "source": [
    "import pandas as pd\n",
    "df=pd.read_csv(\"sonar.csv\")\n",
    "print(df)"
   ]
  },
  {
   "cell_type": "code",
   "execution_count": 14,
   "metadata": {},
   "outputs": [
    {
     "data": {
      "text/plain": [
       "(34, 1)"
      ]
     },
     "execution_count": 14,
     "metadata": {},
     "output_type": "execute_result"
    }
   ],
   "source": [
    "df.shape"
   ]
  },
  {
   "cell_type": "code",
   "execution_count": 3,
   "metadata": {},
   "outputs": [
    {
     "data": {
      "text/html": [
       "<div>\n",
       "<style scoped>\n",
       "    .dataframe tbody tr th:only-of-type {\n",
       "        vertical-align: middle;\n",
       "    }\n",
       "\n",
       "    .dataframe tbody tr th {\n",
       "        vertical-align: top;\n",
       "    }\n",
       "\n",
       "    .dataframe thead th {\n",
       "        text-align: right;\n",
       "    }\n",
       "</style>\n",
       "<table border=\"1\" class=\"dataframe\">\n",
       "  <thead>\n",
       "    <tr style=\"text-align: right;\">\n",
       "      <th></th>\n",
       "      <th>V1\\tV2\\tV3\\tV4\\tV5\\tV6\\tV7\\tV8\\tV9\\tV10\\tV11\\tV12\\tV13\\tV14\\tV15\\tV16\\tV17\\tV18\\tV19\\tV20\\tV21\\tV22\\tV23\\tV24\\tV25\\tV26\\tV27\\tV28\\tV29\\tV30\\tV31\\tV32\\tV33\\tV34\\tV35\\tV36\\tV37\\tV38\\tV39\\tV40\\tV41\\tV42\\tV43\\tV44\\tV45\\tV46\\tV47\\tV48\\tV49\\tV50\\tV51\\tV52\\tV53\\tV54\\tV55\\tV56\\tV57\\tV58\\tV59\\tV60\\tClass</th>\n",
       "    </tr>\n",
       "  </thead>\n",
       "  <tbody>\n",
       "    <tr>\n",
       "      <th>count</th>\n",
       "      <td>208</td>\n",
       "    </tr>\n",
       "    <tr>\n",
       "      <th>unique</th>\n",
       "      <td>208</td>\n",
       "    </tr>\n",
       "    <tr>\n",
       "      <th>top</th>\n",
       "      <td>0.0392\\t0.0108\\t0.0267\\t0.0257\\t0.041\\t0.0491\\...</td>\n",
       "    </tr>\n",
       "    <tr>\n",
       "      <th>freq</th>\n",
       "      <td>1</td>\n",
       "    </tr>\n",
       "  </tbody>\n",
       "</table>\n",
       "</div>"
      ],
      "text/plain": [
       "       V1\\tV2\\tV3\\tV4\\tV5\\tV6\\tV7\\tV8\\tV9\\tV10\\tV11\\tV12\\tV13\\tV14\\tV15\\tV16\\tV17\\tV18\\tV19\\tV20\\tV21\\tV22\\tV23\\tV24\\tV25\\tV26\\tV27\\tV28\\tV29\\tV30\\tV31\\tV32\\tV33\\tV34\\tV35\\tV36\\tV37\\tV38\\tV39\\tV40\\tV41\\tV42\\tV43\\tV44\\tV45\\tV46\\tV47\\tV48\\tV49\\tV50\\tV51\\tV52\\tV53\\tV54\\tV55\\tV56\\tV57\\tV58\\tV59\\tV60\\tClass\n",
       "count                                                 208                                                                                                                                                                                                                                                      \n",
       "unique                                                208                                                                                                                                                                                                                                                      \n",
       "top     0.0392\\t0.0108\\t0.0267\\t0.0257\\t0.041\\t0.0491\\...                                                                                                                                                                                                                                                      \n",
       "freq                                                    1                                                                                                                                                                                                                                                      "
      ]
     },
     "execution_count": 3,
     "metadata": {},
     "output_type": "execute_result"
    }
   ],
   "source": [
    "df.describe()"
   ]
  },
  {
   "cell_type": "code",
   "execution_count": 4,
   "metadata": {},
   "outputs": [
    {
     "name": "stdout",
     "output_type": "stream",
     "text": [
      "<class 'pandas.core.frame.DataFrame'>\n",
      "RangeIndex: 208 entries, 0 to 207\n",
      "Data columns (total 1 columns):\n",
      " #   Column                                                                                                                                                                                                                                        Non-Null Count  Dtype \n",
      "---  ------                                                                                                                                                                                                                                        --------------  ----- \n",
      " 0   V1\tV2\tV3\tV4\tV5\tV6\tV7\tV8\tV9\tV10\tV11\tV12\tV13\tV14\tV15\tV16\tV17\tV18\tV19\tV20\tV21\tV22\tV23\tV24\tV25\tV26\tV27\tV28\tV29\tV30\tV31\tV32\tV33\tV34\tV35\tV36\tV37\tV38\tV39\tV40\tV41\tV42\tV43\tV44\tV45\tV46\tV47\tV48\tV49\tV50\tV51\tV52\tV53\tV54\tV55\tV56\tV57\tV58\tV59\tV60\tClass  208 non-null    object\n",
      "dtypes: object(1)\n",
      "memory usage: 1.8+ KB\n"
     ]
    }
   ],
   "source": [
    "df.info()"
   ]
  },
  {
   "cell_type": "code",
   "execution_count": 4,
   "metadata": {},
   "outputs": [
    {
     "data": {
      "text/plain": [
       "V1\\tV2\\tV3\\tV4\\tV5\\tV6\\tV7\\tV8\\tV9\\tV10\\tV11\\tV12\\tV13\\tV14\\tV15\\tV16\\tV17\\tV18\\tV19\\tV20\\tV21\\tV22\\tV23\\tV24\\tV25\\tV26\\tV27\\tV28\\tV29\\tV30\\tV31\\tV32\\tV33\\tV34\\tV35\\tV36\\tV37\\tV38\\tV39\\tV40\\tV41\\tV42\\tV43\\tV44\\tV45\\tV46\\tV47\\tV48\\tV49\\tV50\\tV51\\tV52\\tV53\\tV54\\tV55\\tV56\\tV57\\tV58\\tV59\\tV60\\tClass    0\n",
       "dtype: int64"
      ]
     },
     "execution_count": 4,
     "metadata": {},
     "output_type": "execute_result"
    }
   ],
   "source": [
    "df.isnull().sum()"
   ]
  },
  {
   "cell_type": "code",
   "execution_count": 22,
   "metadata": {},
   "outputs": [
    {
     "ename": "ValueError",
     "evalue": "zero-size array to reduction operation fmin which has no identity",
     "output_type": "error",
     "traceback": [
      "\u001b[1;31m---------------------------------------------------------------------------\u001b[0m",
      "\u001b[1;31mValueError\u001b[0m                                Traceback (most recent call last)",
      "\u001b[1;32m<ipython-input-22-bdc67555cbfb>\u001b[0m in \u001b[0;36m<module>\u001b[1;34m\u001b[0m\n\u001b[0;32m      1\u001b[0m \u001b[0mcorr\u001b[0m\u001b[1;33m=\u001b[0m\u001b[0mdf\u001b[0m\u001b[1;33m.\u001b[0m\u001b[0mcorr\u001b[0m\u001b[1;33m(\u001b[0m\u001b[1;33m)\u001b[0m\u001b[1;33m\u001b[0m\u001b[1;33m\u001b[0m\u001b[0m\n\u001b[1;32m----> 2\u001b[1;33m \u001b[0msn\u001b[0m\u001b[1;33m.\u001b[0m\u001b[0mheatmap\u001b[0m\u001b[1;33m(\u001b[0m\u001b[0mcorr\u001b[0m\u001b[1;33m,\u001b[0m\u001b[0mannot\u001b[0m\u001b[1;33m=\u001b[0m\u001b[1;32mTrue\u001b[0m\u001b[1;33m)\u001b[0m\u001b[1;33m\u001b[0m\u001b[1;33m\u001b[0m\u001b[0m\n\u001b[0m\u001b[0;32m      3\u001b[0m \u001b[0mplt\u001b[0m\u001b[1;33m.\u001b[0m\u001b[0mshow\u001b[0m\u001b[1;33m(\u001b[0m\u001b[1;33m)\u001b[0m\u001b[1;33m\u001b[0m\u001b[1;33m\u001b[0m\u001b[0m\n",
      "\u001b[1;32mC:\\ProgramData\\Anaconda3\\lib\\site-packages\\seaborn\\matrix.py\u001b[0m in \u001b[0;36mheatmap\u001b[1;34m(data, vmin, vmax, cmap, center, robust, annot, fmt, annot_kws, linewidths, linecolor, cbar, cbar_kws, cbar_ax, square, xticklabels, yticklabels, mask, ax, **kwargs)\u001b[0m\n\u001b[0;32m    533\u001b[0m     \"\"\"\n\u001b[0;32m    534\u001b[0m     \u001b[1;31m# Initialize the plotter object\u001b[0m\u001b[1;33m\u001b[0m\u001b[1;33m\u001b[0m\u001b[1;33m\u001b[0m\u001b[0m\n\u001b[1;32m--> 535\u001b[1;33m     plotter = _HeatMapper(data, vmin, vmax, cmap, center, robust, annot, fmt,\n\u001b[0m\u001b[0;32m    536\u001b[0m                           \u001b[0mannot_kws\u001b[0m\u001b[1;33m,\u001b[0m \u001b[0mcbar\u001b[0m\u001b[1;33m,\u001b[0m \u001b[0mcbar_kws\u001b[0m\u001b[1;33m,\u001b[0m \u001b[0mxticklabels\u001b[0m\u001b[1;33m,\u001b[0m\u001b[1;33m\u001b[0m\u001b[1;33m\u001b[0m\u001b[0m\n\u001b[0;32m    537\u001b[0m                           yticklabels, mask)\n",
      "\u001b[1;32mC:\\ProgramData\\Anaconda3\\lib\\site-packages\\seaborn\\matrix.py\u001b[0m in \u001b[0;36m__init__\u001b[1;34m(self, data, vmin, vmax, cmap, center, robust, annot, fmt, annot_kws, cbar, cbar_kws, xticklabels, yticklabels, mask)\u001b[0m\n\u001b[0;32m    162\u001b[0m \u001b[1;33m\u001b[0m\u001b[0m\n\u001b[0;32m    163\u001b[0m         \u001b[1;31m# Determine good default values for the colormapping\u001b[0m\u001b[1;33m\u001b[0m\u001b[1;33m\u001b[0m\u001b[1;33m\u001b[0m\u001b[0m\n\u001b[1;32m--> 164\u001b[1;33m         self._determine_cmap_params(plot_data, vmin, vmax,\n\u001b[0m\u001b[0;32m    165\u001b[0m                                     cmap, center, robust)\n\u001b[0;32m    166\u001b[0m \u001b[1;33m\u001b[0m\u001b[0m\n",
      "\u001b[1;32mC:\\ProgramData\\Anaconda3\\lib\\site-packages\\seaborn\\matrix.py\u001b[0m in \u001b[0;36m_determine_cmap_params\u001b[1;34m(self, plot_data, vmin, vmax, cmap, center, robust)\u001b[0m\n\u001b[0;32m    201\u001b[0m                 \u001b[0mvmin\u001b[0m \u001b[1;33m=\u001b[0m \u001b[0mnp\u001b[0m\u001b[1;33m.\u001b[0m\u001b[0mnanpercentile\u001b[0m\u001b[1;33m(\u001b[0m\u001b[0mcalc_data\u001b[0m\u001b[1;33m,\u001b[0m \u001b[1;36m2\u001b[0m\u001b[1;33m)\u001b[0m\u001b[1;33m\u001b[0m\u001b[1;33m\u001b[0m\u001b[0m\n\u001b[0;32m    202\u001b[0m             \u001b[1;32melse\u001b[0m\u001b[1;33m:\u001b[0m\u001b[1;33m\u001b[0m\u001b[1;33m\u001b[0m\u001b[0m\n\u001b[1;32m--> 203\u001b[1;33m                 \u001b[0mvmin\u001b[0m \u001b[1;33m=\u001b[0m \u001b[0mnp\u001b[0m\u001b[1;33m.\u001b[0m\u001b[0mnanmin\u001b[0m\u001b[1;33m(\u001b[0m\u001b[0mcalc_data\u001b[0m\u001b[1;33m)\u001b[0m\u001b[1;33m\u001b[0m\u001b[1;33m\u001b[0m\u001b[0m\n\u001b[0m\u001b[0;32m    204\u001b[0m         \u001b[1;32mif\u001b[0m \u001b[0mvmax\u001b[0m \u001b[1;32mis\u001b[0m \u001b[1;32mNone\u001b[0m\u001b[1;33m:\u001b[0m\u001b[1;33m\u001b[0m\u001b[1;33m\u001b[0m\u001b[0m\n\u001b[0;32m    205\u001b[0m             \u001b[1;32mif\u001b[0m \u001b[0mrobust\u001b[0m\u001b[1;33m:\u001b[0m\u001b[1;33m\u001b[0m\u001b[1;33m\u001b[0m\u001b[0m\n",
      "\u001b[1;32m<__array_function__ internals>\u001b[0m in \u001b[0;36mnanmin\u001b[1;34m(*args, **kwargs)\u001b[0m\n",
      "\u001b[1;32mC:\\ProgramData\\Anaconda3\\lib\\site-packages\\numpy\\lib\\nanfunctions.py\u001b[0m in \u001b[0;36mnanmin\u001b[1;34m(a, axis, out, keepdims)\u001b[0m\n\u001b[0;32m    319\u001b[0m         \u001b[1;31m# Fast, but not safe for subclasses of ndarray, or object arrays,\u001b[0m\u001b[1;33m\u001b[0m\u001b[1;33m\u001b[0m\u001b[1;33m\u001b[0m\u001b[0m\n\u001b[0;32m    320\u001b[0m         \u001b[1;31m# which do not implement isnan (gh-9009), or fmin correctly (gh-8975)\u001b[0m\u001b[1;33m\u001b[0m\u001b[1;33m\u001b[0m\u001b[1;33m\u001b[0m\u001b[0m\n\u001b[1;32m--> 321\u001b[1;33m         \u001b[0mres\u001b[0m \u001b[1;33m=\u001b[0m \u001b[0mnp\u001b[0m\u001b[1;33m.\u001b[0m\u001b[0mfmin\u001b[0m\u001b[1;33m.\u001b[0m\u001b[0mreduce\u001b[0m\u001b[1;33m(\u001b[0m\u001b[0ma\u001b[0m\u001b[1;33m,\u001b[0m \u001b[0maxis\u001b[0m\u001b[1;33m=\u001b[0m\u001b[0maxis\u001b[0m\u001b[1;33m,\u001b[0m \u001b[0mout\u001b[0m\u001b[1;33m=\u001b[0m\u001b[0mout\u001b[0m\u001b[1;33m,\u001b[0m \u001b[1;33m**\u001b[0m\u001b[0mkwargs\u001b[0m\u001b[1;33m)\u001b[0m\u001b[1;33m\u001b[0m\u001b[1;33m\u001b[0m\u001b[0m\n\u001b[0m\u001b[0;32m    322\u001b[0m         \u001b[1;32mif\u001b[0m \u001b[0mnp\u001b[0m\u001b[1;33m.\u001b[0m\u001b[0misnan\u001b[0m\u001b[1;33m(\u001b[0m\u001b[0mres\u001b[0m\u001b[1;33m)\u001b[0m\u001b[1;33m.\u001b[0m\u001b[0many\u001b[0m\u001b[1;33m(\u001b[0m\u001b[1;33m)\u001b[0m\u001b[1;33m:\u001b[0m\u001b[1;33m\u001b[0m\u001b[1;33m\u001b[0m\u001b[0m\n\u001b[0;32m    323\u001b[0m             warnings.warn(\"All-NaN slice encountered\", RuntimeWarning,\n",
      "\u001b[1;31mValueError\u001b[0m: zero-size array to reduction operation fmin which has no identity"
     ]
    }
   ],
   "source": [
    "corr=df.corr()\n",
    "sn.heatmap(corr,annot=True)\n",
    "plt.show()"
   ]
  },
  {
   "cell_type": "code",
   "execution_count": null,
   "metadata": {},
   "outputs": [],
   "source": []
  }
 ],
 "metadata": {
  "kernelspec": {
   "display_name": "Python 3",
   "language": "python",
   "name": "python3"
  },
  "language_info": {
   "codemirror_mode": {
    "name": "ipython",
    "version": 3
   },
   "file_extension": ".py",
   "mimetype": "text/x-python",
   "name": "python",
   "nbconvert_exporter": "python",
   "pygments_lexer": "ipython3",
   "version": "3.8.3"
  }
 },
 "nbformat": 4,
 "nbformat_minor": 4
}
